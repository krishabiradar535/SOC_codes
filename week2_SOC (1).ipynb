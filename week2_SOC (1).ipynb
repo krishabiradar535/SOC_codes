{
  "nbformat": 4,
  "nbformat_minor": 0,
  "metadata": {
    "colab": {
      "provenance": []
    },
    "kernelspec": {
      "name": "python3",
      "display_name": "Python 3"
    },
    "language_info": {
      "name": "python"
    }
  },
  "cells": [
    {
      "cell_type": "code",
      "execution_count": 30,
      "metadata": {
        "colab": {
          "base_uri": "https://localhost:8080/"
        },
        "id": "MK6VBb5fkEQ4",
        "outputId": "3c0d03b8-bd96-4c6f-dd8f-69ed52350403"
      },
      "outputs": [
        {
          "output_type": "stream",
          "name": "stderr",
          "text": [
            "<ipython-input-30-af8990ad07f2>:7: DtypeWarning: Columns (10) have mixed types. Specify dtype option on import or set low_memory=False.\n",
            "  movies_metadata = pd.read_csv('movies_metadata.csv')\n"
          ]
        }
      ],
      "source": [
        "import pandas as pd\n",
        "\n",
        "# read all datasets\n",
        "links = pd.read_csv('links.csv')\n",
        "credits = pd.read_csv('credits.csv')\n",
        "keywords = pd.read_csv('keywords.csv')\n",
        "movies_metadata = pd.read_csv('movies_metadata.csv')"
      ]
    },
    {
      "cell_type": "code",
      "source": [
        "# need to rename 'tmdbId' to 'id' since it is 'id' in other 3 datasets\n",
        "links.rename(columns={'tmdbId': 'id'}, inplace=True)"
      ],
      "metadata": {
        "id": "2Oo0vBiFmmNE"
      },
      "execution_count": 31,
      "outputs": []
    },
    {
      "cell_type": "code",
      "source": [
        "# converting all 'id' columns to numeric, then to string\n",
        "links['id'] = pd.to_numeric(links['id'], errors='coerce').astype('Int64')\n",
        "movies_metadata['id'] = pd.to_numeric(movies_metadata['id'], errors='coerce').astype('Int64')\n",
        "\n",
        "# merging\n",
        "master_dataset = links.merge(credits, on='id', how='left')\n",
        "master_dataset = master_dataset.merge(keywords, on='id', how='left')\n",
        "master_dataset = master_dataset.merge(movies_metadata, on='id', how='left')\n",
        "\n",
        "# filtering\n",
        "links = links[links['id'].notnull()]['id'].astype('int')\n",
        "master_dataset = master_dataset[master_dataset['id'].isin(links)]"
      ],
      "metadata": {
        "id": "Dho3eZEbmpQj"
      },
      "execution_count": 33,
      "outputs": []
    },
    {
      "cell_type": "code",
      "source": [
        "master_dataset = master_dataset.drop(columns=['movieId', 'imdbId'])\n",
        "print(master_dataset.columns)"
      ],
      "metadata": {
        "colab": {
          "base_uri": "https://localhost:8080/"
        },
        "id": "fsCAr_ZMmq6P",
        "outputId": "aff3200a-b4a8-4ed7-8b26-501cba924a2a"
      },
      "execution_count": 34,
      "outputs": [
        {
          "output_type": "stream",
          "name": "stdout",
          "text": [
            "Index(['id', 'cast', 'crew', 'keywords', 'adult', 'belongs_to_collection',\n",
            "       'budget', 'genres', 'homepage', 'imdb_id', 'original_language',\n",
            "       'original_title', 'overview', 'popularity', 'poster_path',\n",
            "       'production_companies', 'production_countries', 'release_date',\n",
            "       'revenue', 'runtime', 'spoken_languages', 'status', 'tagline', 'title',\n",
            "       'video', 'vote_average', 'vote_count'],\n",
            "      dtype='object')\n"
          ]
        }
      ]
    },
    {
      "cell_type": "code",
      "source": [
        "print(master_dataset.shape)"
      ],
      "metadata": {
        "colab": {
          "base_uri": "https://localhost:8080/"
        },
        "id": "SfmqaqQsZEc-",
        "outputId": "5ead78e9-1d53-433c-c69a-632aad6dd36a"
      },
      "execution_count": 35,
      "outputs": [
        {
          "output_type": "stream",
          "name": "stdout",
          "text": [
            "(47072, 27)\n"
          ]
        }
      ]
    }
  ]
}