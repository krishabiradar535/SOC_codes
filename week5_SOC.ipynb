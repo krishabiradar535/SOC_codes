{
  "nbformat": 4,
  "nbformat_minor": 0,
  "metadata": {
    "colab": {
      "provenance": []
    },
    "kernelspec": {
      "name": "python3",
      "display_name": "Python 3"
    },
    "language_info": {
      "name": "python"
    }
  },
  "cells": [
    {
      "cell_type": "code",
      "source": [
        "import pandas as pd\n",
        "from sklearn.feature_extraction.text import CountVectorizer\n",
        "from sklearn.metrics.pairwise import cosine_similarity\n",
        "\n",
        "# Load the dataset\n",
        "df = pd.read_csv(\"master_dataset_final.csv\")  # make sure this file is in your directory"
      ],
      "metadata": {
        "id": "gNrhv-9wXi_R"
      },
      "execution_count": 4,
      "outputs": []
    },
    {
      "cell_type": "code",
      "source": [
        "# Creating CountVectorizer object with bigrams and min_df=3\n",
        "vectorizer = CountVectorizer(analyzer='word', ngram_range=(1, 2), min_df=3)"
      ],
      "metadata": {
        "id": "8SfqKb85X-L0"
      },
      "execution_count": 5,
      "outputs": []
    },
    {
      "cell_type": "code",
      "source": [
        "# Generate count matrix from 'soup' column\n",
        "count_matrix = vectorizer.fit_transform(df['soup'])"
      ],
      "metadata": {
        "id": "3lXNm7NaXuCI"
      },
      "execution_count": 6,
      "outputs": []
    },
    {
      "cell_type": "code",
      "source": [
        "# Computing cosine similarity matrix\n",
        "cosine_sim = cosine_similarity(count_matrix)\n",
        "cosine_df = pd.DataFrame(cosine_sim)\n",
        "cosine_df.to_csv(\"cosine_similarity_matrix.csv\", index=False)"
      ],
      "metadata": {
        "id": "HLZb-aRDYDlH"
      },
      "execution_count": 7,
      "outputs": []
    },
    {
      "cell_type": "code",
      "source": [
        "# Reverse mapping of movie titles to DataFrame indices\n",
        "df = df.reset_index()\n",
        "indices = pd.Series(df.index, index=df['title'])"
      ],
      "metadata": {
        "id": "CmW6Q0gaYGGy"
      },
      "execution_count": 8,
      "outputs": []
    },
    {
      "cell_type": "code",
      "source": [
        "# Recommendation function\n",
        "def get_recommendations(title, cosine_sim=cosine_sim):\n",
        "    if title not in indices:\n",
        "        return f\"Movie '{title}' not found in the dataset.\"\n",
        "\n",
        "    idx = indices[title]\n",
        "    sim_scores = list(enumerate(cosine_sim[idx]))\n",
        "    sim_scores = sorted(sim_scores, key=lambda x: x[1], reverse=True)[1:11]\n",
        "    movie_indices = [i[0] for i in sim_scores]\n",
        "\n",
        "    output_df = df.loc[movie_indices, ['title', 'main_director', 'release_date']]\n",
        "    output_df.columns = ['Movie Title', 'Director', 'Release Date']\n",
        "    return output_df.reset_index(drop=True)"
      ],
      "metadata": {
        "id": "rpKXtk5LYIim"
      },
      "execution_count": 9,
      "outputs": []
    },
    {
      "cell_type": "code",
      "source": [
        "# Testing\n",
        "recommendations = get_recommendations(\"Avatar\")\n",
        "print(recommendations)"
      ],
      "metadata": {
        "colab": {
          "base_uri": "https://localhost:8080/"
        },
        "id": "boB7TK34YNxc",
        "outputId": "50a1c187-4272-4dec-ae88-ca70885c3e58"
      },
      "execution_count": 10,
      "outputs": [
        {
          "output_type": "stream",
          "name": "stdout",
          "text": [
            "                                   Movie Title        Director Release Date\n",
            "0                                       Aliens   James Cameron   18-07-1986\n",
            "1                                      Titanic   James Cameron   18-11-1997\n",
            "2                                    True Lies   James Cameron   14-07-1994\n",
            "3                               The Terminator   James Cameron   26-10-1984\n",
            "4                   Terminator 2: Judgment Day   James Cameron   01-07-1991\n",
            "5                      Star Trek Into Darkness     J.J. Abrams   05-05-2013\n",
            "6                                         Home     Tim Johnson   18-03-2015\n",
            "7                                Battle Royale  Kinji Fukasaku   16-12-2000\n",
            "8          Behind Enemy Lines II: Axis of Evil    James Dodson   17-10-2006\n",
            "9  Pirates of the Caribbean: On Stranger Tides    Rob Marshall   14-05-2011\n"
          ]
        }
      ]
    }
  ]
}