{
  "nbformat": 4,
  "nbformat_minor": 0,
  "metadata": {
    "colab": {
      "provenance": []
    },
    "kernelspec": {
      "name": "python3",
      "display_name": "Python 3"
    },
    "language_info": {
      "name": "python"
    }
  },
  "cells": [
    {
      "cell_type": "code",
      "source": [
        "import pandas as pd\n",
        "from sklearn.feature_extraction.text import CountVectorizer\n",
        "from sklearn.metrics.pairwise import cosine_similarity\n",
        "\n",
        "# Load the dataset\n",
        "df = pd.read_csv(\"master_dataset_final.csv\")  # make sure this file is in your directory"
      ],
      "metadata": {
        "id": "gNrhv-9wXi_R"
      },
      "execution_count": 1,
      "outputs": []
    },
    {
      "cell_type": "code",
      "source": [
        "# Creating CountVectorizer object with bigrams and min_df=3\n",
        "vectorizer = CountVectorizer(analyzer='word', ngram_range=(1, 2), min_df=3)"
      ],
      "metadata": {
        "id": "8SfqKb85X-L0"
      },
      "execution_count": 2,
      "outputs": []
    },
    {
      "cell_type": "code",
      "source": [
        "# Generate count matrix from 'soup' column\n",
        "count_matrix = vectorizer.fit_transform(df['soup'])"
      ],
      "metadata": {
        "id": "3lXNm7NaXuCI"
      },
      "execution_count": 3,
      "outputs": []
    },
    {
      "cell_type": "code",
      "source": [
        "# Computing cosine similarity matrix\n",
        "cosine_sim = cosine_similarity(count_matrix)\n",
        "cosine_df = pd.DataFrame(cosine_sim)\n",
        "cosine_df.to_csv(\"cosine_similarity_matrix.csv\", index=False)"
      ],
      "metadata": {
        "id": "HLZb-aRDYDlH"
      },
      "execution_count": 4,
      "outputs": []
    },
    {
      "cell_type": "code",
      "source": [
        "# Reverse mapping of movie titles to DataFrame indices\n",
        "df = df.reset_index()\n",
        "indices = pd.Series(df.index, index=df['title'])"
      ],
      "metadata": {
        "id": "CmW6Q0gaYGGy"
      },
      "execution_count": 5,
      "outputs": []
    },
    {
      "cell_type": "code",
      "source": [
        "# Recommendation function\n",
        "def get_recommendations(title, cosine_sim=cosine_sim):\n",
        "    if title not in indices.index:\n",
        "        return f\"Movie '{title}' not found in the dataset.\"\n",
        "\n",
        "    # Handle potential duplicate titles by taking the first index\n",
        "    idx = indices[title].iloc[0] if isinstance(indices[title], pd.Series) else indices[title]\n",
        "\n",
        "    sim_scores = list(enumerate(cosine_sim[idx]))\n",
        "    sim_scores = sorted(sim_scores, key=lambda x: x[1], reverse=True)[1:11]\n",
        "    movie_indices = [i[0] for i in sim_scores]\n",
        "\n",
        "    output_df = df.loc[movie_indices, ['title', 'main_director', 'release_date']]\n",
        "    output_df.columns = ['Movie Title', 'Director', 'Release Date']\n",
        "    return output_df.reset_index(drop=True)"
      ],
      "metadata": {
        "id": "rpKXtk5LYIim"
      },
      "execution_count": 12,
      "outputs": []
    },
    {
      "cell_type": "code",
      "source": [
        "# Testing\n",
        "recommendations = get_recommendations(\"Titanic\")\n",
        "print(recommendations)"
      ],
      "metadata": {
        "colab": {
          "base_uri": "https://localhost:8080/"
        },
        "id": "boB7TK34YNxc",
        "outputId": "18e52b86-5240-47cc-bac0-cb0fbb65eb80"
      },
      "execution_count": 13,
      "outputs": [
        {
          "output_type": "stream",
          "name": "stdout",
          "text": [
            "                           Movie Title        Director Release Date\n",
            "0                            True Lies   James Cameron   14-07-1994\n",
            "1                               Aliens   James Cameron   18-07-1986\n",
            "2                       The Terminator   James Cameron   26-10-1984\n",
            "3           Terminator 2: Judgment Day   James Cameron   01-07-1991\n",
            "4                               Avatar   James Cameron   10-12-2009\n",
            "5                             Godzilla    Ishirô Honda   03-11-1954\n",
            "6                               Storks  Doug Sweetland   22-09-2016\n",
            "7                            Quo Vadis    Mervyn LeRoy   08-11-1951\n",
            "8       Thunder and the House of Magic     Ben Stassen   24-12-2013\n",
            "9  A Turtle's Tale: Sammy's Adventures     Ben Stassen   03-08-2010\n"
          ]
        }
      ]
    }
  ]
}